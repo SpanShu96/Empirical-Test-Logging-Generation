{
 "cells": [
  {
   "cell_type": "code",
   "execution_count": null,
   "id": "beaba55d-80cb-4c4e-9180-363d49ba898b",
   "metadata": {},
   "outputs": [],
   "source": [
    "import jsonlines\n",
    "import pandas as pd\n",
    "import random"
   ]
  },
  {
   "cell_type": "markdown",
   "id": "d72bf845-3590-4bf0-a4f4-5ac54793114e",
   "metadata": {},
   "source": [
    "# Build trainable dataset with instruction"
   ]
  },
  {
   "cell_type": "code",
   "execution_count": null,
   "id": "a497adc9-3de2-4b2d-8a93-a1168138854e",
   "metadata": {},
   "outputs": [],
   "source": [
    "path = './Data/train_log4j.tsv'\n",
    "train_df = pd.read_csv(path, sep='\\t', header=None)\n",
    "train_inputs = train_df[0].tolist()\n",
    "train_targets = train_df[1].tolist()\n",
    "\n",
    "data = []\n",
    "prompt = \"You are a logging statement generator for Java. \" \\\n",
    "         \"You will be provided with a Java method as input. \" \\\n",
    "         \"Your task is to inject at least one logging statement at a rational position. \" \\\n",
    "         \"The output must be a completed Java method.\"\n",
    "for i in range(len(train_inputs)):\n",
    "    msg = {\"messages\": [{\"role\": \"system\", \"content\": prompt},\n",
    "                        {\"role\": \"user\", \"content\": train_inputs[i]},\n",
    "                        {\"role\": \"assistant\", \"content\": train_targets[i]}]}\n",
    "    data.append(msg)\n",
    "\n",
    "# write data to jsonl\n",
    "jsonl_path = \"./Data/train.jsonl\"\n",
    "file = jsonlines.open(jsonl_path, \"w\")\n",
    "for i in range(len(data)):\n",
    "    jsonlines.Writer.write(file, data[i])\n",
    "file.close()"
   ]
  },
  {
   "cell_type": "markdown",
   "id": "6863a815-1616-4a4b-b0cf-9eb6f46b166c",
   "metadata": {},
   "source": [
    "# Instruction tuning"
   ]
  },
  {
   "cell_type": "code",
   "execution_count": null,
   "id": "db2c5b93-b611-49f9-8fb4-b8a937665efc",
   "metadata": {},
   "outputs": [],
   "source": [
    "api_key = ''\n",
    "client = OpenAI(api_key=api_key)"
   ]
  },
  {
   "cell_type": "code",
   "execution_count": null,
   "id": "3e31d808-813d-4e75-9498-b8149612d664",
   "metadata": {},
   "outputs": [],
   "source": [
    "# upload fine-tuning set\n",
    "response = client.files.create(\n",
    "  file=open(\"./Data/train_sampled.jsonl\", \"rb\"),\n",
    "  purpose=\"fine-tune\"\n",
    ")\n",
    "print(response['id'])"
   ]
  },
  {
   "cell_type": "code",
   "execution_count": null,
   "id": "f3fe4844-5c02-447b-8511-52e60635a304",
   "metadata": {},
   "outputs": [],
   "source": [
    "# create fine-tuning job\n",
    "file_id = '' # copy the previous print ID to here\n",
    "\n",
    "response = client.fine_tuning.jobs.create(\n",
    "    training_file=file_id,\n",
    "    model=\"gpt-3.5-turbo-0613\",\n",
    "    hyperparameters={\"n_epochs\": 1}\n",
    ")\n",
    "print(response)"
   ]
  },
  {
   "cell_type": "code",
   "execution_count": null,
   "id": "3357a519-703e-408b-90c4-5231d47ce088",
   "metadata": {},
   "outputs": [],
   "source": [
    "# retrieve fine-tuning status, when fine-tuning is done, we can do inference on the fine-tuned model\n",
    "client.fine_tuning.jobs.retrieve('')"
   ]
  },
  {
   "cell_type": "markdown",
   "id": "c37d1d88-1765-4ee2-a9cd-6ba7458dcfd6",
   "metadata": {},
   "source": [
    "# Inference"
   ]
  },
  {
   "cell_type": "code",
   "execution_count": null,
   "id": "fde48fb9-3ee1-4ff2-bc6b-d71ed3909a74",
   "metadata": {},
   "outputs": [],
   "source": [
    "@retry(Exception, tries=5, delay=1, backoff=2, max_delay=120)\n",
    "def ChatCompletion(content, prompt, client, model='gpt-3.5-turbo', temperature = 0, top_p=1, max_tokens=256, frequency_penalty=0, presence_penalty=0):\n",
    "    completion = client.chat.completions.create(\n",
    "    model=model, \n",
    "    messages=[\n",
    "        {\n",
    "         \"role\": \"system\", \n",
    "         \"content\": prompt\n",
    "        },\n",
    "        {\n",
    "         \"role\": \"user\", \n",
    "         \"content\": content\n",
    "        }\n",
    "    ],\n",
    "    temperature=temperature,\n",
    "    max_tokens=max_tokens,\n",
    "    top_p=top_p,\n",
    "    frequency_penalty=frequency_penalty,\n",
    "    presence_penalty=presence_penalty)\n",
    "    return completion.choices[0].message"
   ]
  },
  {
   "cell_type": "code",
   "execution_count": null,
   "id": "abac31e3-72d9-49fa-89f8-969400e7b762",
   "metadata": {},
   "outputs": [],
   "source": [
    "test_file = './Data/FineTuning/test_log4j.tsv'\n",
    "test_inputs = pd.read_csv(test_file, sep='\\t', header=None)[0].tolist()\n",
    "model = 'ft:'   # inpu the fine-tuned model id here\n",
    "\n",
    "output_list = []\n",
    "for idx in tqdm(range(len(test_inputs))):\n",
    "    prompt = \"You are a logging statement generator for Java. \" \\\n",
    "             \"You will be provided with a Java method as input. \" \\\n",
    "             \"Your task is to inject at least one logging statement at a rational position. \" \\\n",
    "             \"The output must be a completed Java method.\"\n",
    "    content = test_inputs[idx]\n",
    "    message = ChatCompletion(content, prompt, client, model)\n",
    "    output_list.append(message)\n",
    "\n",
    "def save_list_as_jsonl(file_path, data):\n",
    "    with open(file_path, 'w') as f:\n",
    "        for item in data:\n",
    "            json.dump(item, f)\n",
    "            f.write('\\n')\n",
    "            \n",
    "save_list_as_jsonl('./Data/PredictionResult/gpt-3.5-turbo_instruction-tuning_output.jsonl', output_list)"
   ]
  }
 ],
 "metadata": {
  "kernelspec": {
   "display_name": "Python 3 (ipykernel)",
   "language": "python",
   "name": "python3"
  },
  "language_info": {
   "codemirror_mode": {
    "name": "ipython",
    "version": 3
   },
   "file_extension": ".py",
   "mimetype": "text/x-python",
   "name": "python",
   "nbconvert_exporter": "python",
   "pygments_lexer": "ipython3",
   "version": "3.10.14"
  }
 },
 "nbformat": 4,
 "nbformat_minor": 5
}
